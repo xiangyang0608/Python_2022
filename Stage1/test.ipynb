{
 "cells": [
  {
   "cell_type": "code",
   "execution_count": 1,
   "metadata": {},
   "outputs": [],
   "source": [
    "import pandas as pd\n",
    "from numpy import random\n",
    "import time\n",
    "import os"
   ]
  },
  {
   "cell_type": "code",
   "execution_count": 6,
   "metadata": {},
   "outputs": [
    {
     "data": {
      "text/html": [
       "<div>\n",
       "<style scoped>\n",
       "    .dataframe tbody tr th:only-of-type {\n",
       "        vertical-align: middle;\n",
       "    }\n",
       "\n",
       "    .dataframe tbody tr th {\n",
       "        vertical-align: top;\n",
       "    }\n",
       "\n",
       "    .dataframe thead th {\n",
       "        text-align: right;\n",
       "    }\n",
       "</style>\n",
       "<table border=\"1\" class=\"dataframe\">\n",
       "  <thead>\n",
       "    <tr style=\"text-align: right;\">\n",
       "      <th></th>\n",
       "      <th>NO.</th>\n",
       "      <th>FRENCH VERSION</th>\n",
       "      <th>ENGLISH VERSION</th>\n",
       "      <th>FRE</th>\n",
       "    </tr>\n",
       "  </thead>\n",
       "  <tbody>\n",
       "    <tr>\n",
       "      <th>0</th>\n",
       "      <td>1</td>\n",
       "      <td>.Posséder des choses a un coût, et l'argent en...</td>\n",
       "      <td>.Owning things has a cost, and money is the le...</td>\n",
       "      <td>0</td>\n",
       "    </tr>\n",
       "    <tr>\n",
       "      <th>1</th>\n",
       "      <td>2</td>\n",
       "      <td>« Les opportunités ne se présentent pas. Vous ...</td>\n",
       "      <td>“Opportunities don’t happen. You create them....</td>\n",
       "      <td>0</td>\n",
       "    </tr>\n",
       "    <tr>\n",
       "      <th>2</th>\n",
       "      <td>3</td>\n",
       "      <td>A attendre que l'herbe pousse, le bœuf meurt d...</td>\n",
       "      <td>While the grass grows, the steer starves.</td>\n",
       "      <td>0</td>\n",
       "    </tr>\n",
       "    <tr>\n",
       "      <th>3</th>\n",
       "      <td>4</td>\n",
       "      <td>A bon chat, bon rat</td>\n",
       "      <td>Two can play that game</td>\n",
       "      <td>0</td>\n",
       "    </tr>\n",
       "    <tr>\n",
       "      <th>4</th>\n",
       "      <td>5</td>\n",
       "      <td>A cause d'un grand amour, on est courageux. La...</td>\n",
       "      <td>Because of a great love, one is courageous. La...</td>\n",
       "      <td>0</td>\n",
       "    </tr>\n",
       "  </tbody>\n",
       "</table>\n",
       "</div>"
      ],
      "text/plain": [
       "   NO.                                     FRENCH VERSION  \\\n",
       "0    1  .Posséder des choses a un coût, et l'argent en...   \n",
       "1    2  « Les opportunités ne se présentent pas. Vous ...   \n",
       "2    3  A attendre que l'herbe pousse, le bœuf meurt d...   \n",
       "3    4                                A bon chat, bon rat   \n",
       "4    5  A cause d'un grand amour, on est courageux. La...   \n",
       "\n",
       "                                     ENGLISH VERSION  FRE  \n",
       "0  .Owning things has a cost, and money is the le...    0  \n",
       "1   “Opportunities don’t happen. You create them....    0  \n",
       "2          While the grass grows, the steer starves.    0  \n",
       "3                             Two can play that game    0  \n",
       "4  Because of a great love, one is courageous. La...    0  "
      ]
     },
     "execution_count": 6,
     "metadata": {},
     "output_type": "execute_result"
    }
   ],
   "source": [
    "data = pd.read_csv('data.csv', low_memory = False)\n",
    "data['FRE'] = 0\n",
    "data.head()"
   ]
  },
  {
   "cell_type": "code",
   "execution_count": 33,
   "metadata": {},
   "outputs": [],
   "source": []
  },
  {
   "cell_type": "code",
   "execution_count": null,
   "metadata": {},
   "outputs": [],
   "source": []
  }
 ],
 "metadata": {
  "kernelspec": {
   "display_name": "Python 3.10.7 64-bit",
   "language": "python",
   "name": "python3"
  },
  "language_info": {
   "codemirror_mode": {
    "name": "ipython",
    "version": 3
   },
   "file_extension": ".py",
   "mimetype": "text/x-python",
   "name": "python",
   "nbconvert_exporter": "python",
   "pygments_lexer": "ipython3",
   "version": "3.10.7"
  },
  "orig_nbformat": 4,
  "vscode": {
   "interpreter": {
    "hash": "2469a70536e4d2335a2ea8907942d0699c37342a371ac185bdb5b0aa6f073890"
   }
  }
 },
 "nbformat": 4,
 "nbformat_minor": 2
}
