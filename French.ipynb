{
 "cells": [
  {
   "cell_type": "code",
   "execution_count": 9,
   "id": "45221392",
   "metadata": {},
   "outputs": [],
   "source": [
    "import openpyxl\n",
    "import random\n",
    "from openpyxl import load_workbook\n",
    " \n",
    "#PATH \n",
    "INPUT_FILES_BASE_PATH = '/final_project'\n",
    "EXCEL_FILENAME = 'French Sentences.xlsx'\n",
    " \n",
    "def get_row_value(ws,row):\n",
    "    col_num = ws.max_column\n",
    "    row_data = []\n",
    "    for i in range(1,col_num+1):\n",
    "        cell_value = ws.cell(row=row, column=i).value\n",
    "        row_data.append(cell_value)\n",
    "    return row_data"
   ]
  },
  {
   "cell_type": "code",
   "execution_count": 10,
   "id": "bfe6f391",
   "metadata": {},
   "outputs": [
    {
     "name": "stdout",
     "output_type": "stream",
     "text": [
      "Success extract\n"
     ]
    }
   ],
   "source": [
    "for i in range(1):\n",
    "    \n",
    "    #input \n",
    "    wb = load_workbook(r\"{}\".format(INPUT_FILES_BASE_PATH) + \"{}\".format(EXCEL_FILENAME))\n",
    "    sheet = wb.active\n",
    "    row_num = sheet.max_row\n",
    "    #Take 1 of the sample at random, leaving the first row of table heads alone.\n",
    "    # Variable function to achieve different random extraction rates\n",
    "    random_num = random.sample(range(2,row_num+1),row_num//1280)\n",
    " \n",
    "    #Write into new form \n",
    "    \n",
    "    #RandomExtract part \n",
    "    wb2 = openpyxl.Workbook()\n",
    "    sheet2 = wb2.active\n",
    "    sheet2.append(get_row_value(sheet,1))\n",
    "    for j in random_num:\n",
    "        sheet2.append(get_row_value(sheet,j))\n",
    "   \n",
    "    #sheet2.append(['The random number generated is：'] + random_num)\n",
    "    # If a random number needs to be generated, it is printed to the last row of the table\n",
    " \n",
    "    #output \n",
    "    out_file_name1 = 'RandomExtract.xlsx'\n",
    "    wb2.save(out_file_name1)\n",
    " \n",
    "    # Remainder \n",
    "    wb3 = openpyxl.Workbook()\n",
    "    sheet3 = wb3.active\n",
    "    sheet3.append(get_row_value(sheet, 1))\n",
    "    for m in range(2,row_num+1):\n",
    "        if m not in random_num:\n",
    "            sheet3.append(get_row_value(sheet, m))\n",
    " \n",
    "    # output \n",
    "    out_file_name2 = 'RandomRemain.xlsx'\n",
    "    wb3.save(out_file_name2)\n",
    " \n",
    "    print('Success extract')"
   ]
  }
 ],
 "metadata": {
  "kernelspec": {
   "display_name": "Python 3.10.7 64-bit",
   "language": "python",
   "name": "python3"
  },
  "language_info": {
   "codemirror_mode": {
    "name": "ipython",
    "version": 3
   },
   "file_extension": ".py",
   "mimetype": "text/x-python",
   "name": "python",
   "nbconvert_exporter": "python",
   "pygments_lexer": "ipython3",
   "version": "3.10.7"
  },
  "vscode": {
   "interpreter": {
    "hash": "2469a70536e4d2335a2ea8907942d0699c37342a371ac185bdb5b0aa6f073890"
   }
  }
 },
 "nbformat": 4,
 "nbformat_minor": 5
}
