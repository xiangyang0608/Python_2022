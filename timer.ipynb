{
 "cells": [
  {
   "cell_type": "code",
   "execution_count": null,
   "metadata": {},
   "outputs": [],
   "source": [
    "import schedule\n",
    "import time\n",
    "\n",
    "def change():\n",
    "    print(\"The next sentence\") #change the sentence\n",
    " \n",
    "schedule.every(24).hours.do(change)\n",
    "#change the sentence for every 24 hours\n",
    "schedule.every().day.at(\"10:00\").do(change)\n",
    "#(OPTIONAL)change the sentence at every 10:00\n",
    " \n",
    "while True:\n",
    "    schedule.run_pending() #continue to run the schedule function\n",
    "    time.sleep(10) #check for every 10 seconds"
   ]
  }
 ],
 "metadata": {
  "kernelspec": {
   "display_name": "Python 3.10.7 64-bit",
   "language": "python",
   "name": "python3"
  },
  "language_info": {
   "name": "python",
   "version": "3.10.7"
  },
  "orig_nbformat": 4,
  "vscode": {
   "interpreter": {
    "hash": "0d93666cc1ba235209ef1da5c32a409a0ca91ba6aaa33ffe99c6bb84096e1f59"
   }
  }
 },
 "nbformat": 4,
 "nbformat_minor": 2
}
